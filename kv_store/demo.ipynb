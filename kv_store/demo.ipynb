{
 "cells": [
  {
   "cell_type": "code",
   "execution_count": 1,
   "metadata": {},
   "outputs": [
    {
     "name": "stderr",
     "output_type": "stream",
     "text": [
      "/dataheart/hanchen/anaconda3/envs/vllm/lib/python3.10/site-packages/tqdm/auto.py:21: TqdmWarning: IProgress not found. Please update jupyter and ipywidgets. See https://ipywidgets.readthedocs.io/en/stable/user_install.html\n",
      "  from .autonotebook import tqdm as notebook_tqdm\n",
      "/dataheart/hanchen/anaconda3/envs/vllm/lib/python3.10/site-packages/transformers/utils/hub.py:124: FutureWarning: Using `TRANSFORMERS_CACHE` is deprecated and will be removed in v5 of Transformers. Use `HF_HOME` instead.\n",
      "  warnings.warn(\n",
      "/dataheart/hanchen/anaconda3/envs/vllm/lib/python3.10/site-packages/torch/_utils.py:831: UserWarning: TypedStorage is deprecated. It will be removed in the future and UntypedStorage will be the only storage class. This should only matter to you if you are using storages directly.  To access UntypedStorage directly, use tensor.untyped_storage() instead of tensor.storage()\n",
      "  return self.fget.__get__(instance, owner)()\n"
     ]
    }
   ],
   "source": [
    "from transformers import AutoModelForCausalLM, AutoTokenizer\n",
    "tokenizer = AutoTokenizer.from_pretrained('facebook/opt-125m')\n",
    "model = AutoModelForCausalLM.from_pretrained('facebook/opt-125m').cuda()\n",
    "model.eval()\n",
    "\n",
    "\n",
    "\n",
    "text = \"This is a piece of context essential for understanding the question. Very important very very\"\n",
    "input_ids = tokenizer(text, return_tensors=\"pt\").input_ids.cuda()\n",
    "generated = model.generate(input_ids, max_new_tokens = 1, return_dict_in_generate = True)\n",
    "key_value = generated['past_key_values']"
   ]
  },
  {
   "cell_type": "code",
   "execution_count": 2,
   "metadata": {},
   "outputs": [],
   "source": [
    "layer1 = key_value[0]\n",
    "layer2 = key_value[1]"
   ]
  },
  {
   "cell_type": "code",
   "execution_count": 3,
   "metadata": {},
   "outputs": [
    {
     "name": "stdout",
     "output_type": "stream",
     "text": [
      "adding hash is:  ba3c1553cb8b5e44ac00488120b3fb84969f9886ee4fa17050d12c58f82593bb\n",
      "adding hash is:  6b76aaae21cd09a657f731809b1b9dd25ff5538747f20b7bfd4218de67a4ba88\n"
     ]
    }
   ],
   "source": [
    "import torch\n",
    "import kv_loading_interface as kv\n",
    "\n",
    "#Lets assume layer start from 1 instead of zero, and key layer go from 1, 2, 3... value layer go from -1, -2, -3\n",
    "kv.add_kv_layer(layer1, text, 1)\n",
    "kv.add_kv_layer(layer2, text, -1)"
   ]
  },
  {
   "cell_type": "code",
   "execution_count": 4,
   "metadata": {},
   "outputs": [
    {
     "name": "stdout",
     "output_type": "stream",
     "text": [
      "-1\n"
     ]
    }
   ],
   "source": [
    "print(str(-1))"
   ]
  },
  {
   "cell_type": "code",
   "execution_count": 5,
   "metadata": {},
   "outputs": [
    {
     "name": "stdout",
     "output_type": "stream",
     "text": [
      "fetching hash is  ba3c1553cb8b5e44ac00488120b3fb84969f9886ee4fa17050d12c58f82593bb\n"
     ]
    }
   ],
   "source": [
    "a = kv.fetch_kv_layer(text, 1)\n"
   ]
  },
  {
   "cell_type": "code",
   "execution_count": 6,
   "metadata": {},
   "outputs": [
    {
     "name": "stdout",
     "output_type": "stream",
     "text": [
      "(tensor([[[[ 1.2486e+00, -6.0730e-01,  1.6534e+00,  ...,  1.0781e+00,\n",
      "            1.6430e-01,  5.8640e-01],\n",
      "          [ 1.0214e+00, -2.1160e+00,  1.8230e+00,  ...,  4.4767e-01,\n",
      "            5.0009e-01,  1.5991e+00],\n",
      "          [ 9.3129e-01, -1.2352e+00,  1.2848e+00,  ...,  1.6862e+00,\n",
      "            6.4640e-01,  5.9933e-01],\n",
      "          ...,\n",
      "          [ 2.2610e+00, -3.6193e-01,  2.9102e-01,  ..., -7.9461e-01,\n",
      "           -1.2567e-01,  9.4406e-01],\n",
      "          [ 3.1731e+00, -1.0497e+00,  1.7020e+00,  ...,  1.2956e+00,\n",
      "            1.1965e+00,  1.9569e+00],\n",
      "          [ 3.1148e+00, -9.4339e-01,  2.2317e+00,  ...,  1.6871e+00,\n",
      "            1.1831e+00,  1.9189e+00]],\n",
      "\n",
      "         [[-1.1066e-01,  1.6558e+00,  9.9091e-01,  ...,  2.5769e-01,\n",
      "            4.7270e-01, -3.1353e-01],\n",
      "          [-1.2333e+00, -3.7206e-01,  1.6180e+00,  ...,  8.1827e-01,\n",
      "           -5.3251e-01, -7.8970e-01],\n",
      "          [-2.8226e-01, -1.3683e-01,  2.5335e-01,  ..., -9.7818e-01,\n",
      "            7.7755e-02, -5.1258e-01],\n",
      "          ...,\n",
      "          [-2.2119e+00, -1.0897e+00,  1.9029e-01,  ..., -3.1978e-01,\n",
      "            8.5747e-01,  5.2186e-01],\n",
      "          [-1.7178e+00, -1.1721e+00,  3.6231e-01,  ..., -1.4212e-01,\n",
      "           -2.4385e-01, -4.7394e-01],\n",
      "          [-1.8155e+00, -1.0167e+00,  3.8630e-01,  ...,  9.5680e-02,\n",
      "           -2.5318e-01, -4.7442e-01]],\n",
      "\n",
      "         [[-4.6959e-01, -5.8341e-01,  9.0993e-01,  ..., -1.3590e-01,\n",
      "           -1.4347e+00, -2.1844e+00],\n",
      "          [-1.6851e+00, -2.7188e-01, -2.3374e-02,  ...,  3.6493e-01,\n",
      "           -1.5213e+00, -3.0379e+00],\n",
      "          [-6.9437e-01,  5.1374e-01,  7.7014e-01,  ..., -1.8991e-01,\n",
      "           -1.1249e+00, -2.7147e+00],\n",
      "          ...,\n",
      "          [ 4.8453e-01,  9.9951e-02,  8.6510e-01,  ..., -1.0128e+00,\n",
      "           -5.3095e-01, -2.8186e+00],\n",
      "          [ 2.9059e-01,  2.6073e-01,  1.2159e+00,  ..., -1.2661e+00,\n",
      "           -1.1568e+00, -2.2071e+00],\n",
      "          [ 3.0904e-01,  1.3049e+00,  4.9636e-01,  ..., -1.2028e+00,\n",
      "           -1.5700e+00, -2.4010e+00]],\n",
      "\n",
      "         ...,\n",
      "\n",
      "         [[ 1.1483e+00,  5.9374e-01, -2.0324e-01,  ...,  1.1282e+00,\n",
      "           -9.6411e-01, -3.9016e-01],\n",
      "          [-8.3773e-01, -1.9041e-01,  8.4018e-02,  ...,  1.3490e+00,\n",
      "           -8.5258e-01, -9.9290e-01],\n",
      "          [-1.0822e+00,  6.0222e-01,  3.0636e-01,  ..., -1.3011e-01,\n",
      "           -1.4548e+00, -6.2894e-01],\n",
      "          ...,\n",
      "          [-6.6936e-01, -1.1914e+00, -4.4565e-01,  ...,  1.8267e+00,\n",
      "           -1.0074e+00, -4.8191e-01],\n",
      "          [-1.0694e+00, -5.3944e-01,  1.3047e-01,  ...,  1.0451e+00,\n",
      "           -2.8676e-01, -2.4384e-01],\n",
      "          [-1.1238e+00, -8.2455e-01,  2.9090e-01,  ...,  1.1345e+00,\n",
      "           -2.6169e-01, -3.3337e-01]],\n",
      "\n",
      "         [[-3.5629e-01, -9.1295e-02, -1.0508e+00,  ..., -4.0993e-01,\n",
      "            7.5115e-01,  2.8116e-01],\n",
      "          [-1.1107e+00, -2.1684e-01, -6.6077e-01,  ...,  7.9845e-04,\n",
      "           -3.4360e-01,  3.4245e-01],\n",
      "          [-1.9302e+00, -3.8778e-01, -1.2225e+00,  ..., -5.4810e-01,\n",
      "           -8.1449e-02, -8.5694e-01],\n",
      "          ...,\n",
      "          [-1.4200e+00, -1.8837e-01, -8.7803e-01,  ..., -2.1087e-01,\n",
      "           -1.2626e+00,  2.5577e-01],\n",
      "          [-1.3126e+00, -2.3424e-01, -5.3294e-01,  ...,  4.6333e-01,\n",
      "           -1.0617e+00, -7.9770e-01],\n",
      "          [-1.1127e+00, -7.9683e-02, -4.1617e-01,  ...,  2.4327e-01,\n",
      "           -1.0651e+00, -1.0519e+00]],\n",
      "\n",
      "         [[ 1.1504e+00,  3.2081e-01, -6.4023e-01,  ..., -4.9120e-01,\n",
      "            7.8695e-01,  8.5185e-01],\n",
      "          [-1.8464e-01,  5.7806e-01, -5.1361e-01,  ..., -1.5038e+00,\n",
      "           -2.1780e+00,  1.4629e+00],\n",
      "          [-1.6967e+00, -3.1561e-01,  3.1180e-01,  ...,  6.9213e-01,\n",
      "            1.4727e+00,  8.0280e-02],\n",
      "          ...,\n",
      "          [ 8.0966e-01,  6.8564e-01, -6.2408e-02,  ...,  8.0998e-01,\n",
      "           -3.2612e-01, -1.8956e+00],\n",
      "          [ 8.8402e-01,  1.0605e+00,  1.0372e-01,  ...,  9.5653e-01,\n",
      "            5.2554e-01, -1.8263e+00],\n",
      "          [-3.4920e-03,  1.6355e+00,  3.3127e-01,  ...,  1.4725e+00,\n",
      "            8.0239e-01, -5.4357e-01]]]], device='cuda:0'), tensor([[[[ 0.0964, -0.0035,  0.0488,  ...,  0.0068,  0.0776, -0.0527],\n",
      "          [-0.0357,  0.1012,  0.0307,  ...,  0.0536, -0.0009, -0.0925],\n",
      "          [ 0.0394,  0.1030,  0.0717,  ...,  0.0329, -0.0144,  0.0255],\n",
      "          ...,\n",
      "          [-0.0068,  0.0566, -0.2829,  ..., -0.0315,  0.0573, -0.0137],\n",
      "          [-0.0144,  0.0173,  0.2048,  ...,  0.0303,  0.1516,  0.0586],\n",
      "          [-0.0175,  0.0104,  0.2108,  ...,  0.0223,  0.1609,  0.0607]],\n",
      "\n",
      "         [[ 0.0010,  0.0086, -0.0714,  ..., -0.0174, -0.0196, -0.0293],\n",
      "          [ 0.0539,  0.0118, -0.0405,  ...,  0.0300,  0.0195, -0.1525],\n",
      "          [ 0.0594,  0.0730,  0.0256,  ..., -0.0129, -0.0126,  0.0733],\n",
      "          ...,\n",
      "          [-0.0450, -0.0079,  0.2572,  ...,  0.0136, -0.0837, -0.1679],\n",
      "          [-0.0109, -0.0622, -0.0156,  ...,  0.0828, -0.1442, -0.0558],\n",
      "          [-0.0150, -0.0628, -0.0130,  ...,  0.0756, -0.1368, -0.0688]],\n",
      "\n",
      "         [[ 0.0236,  0.0055, -0.0434,  ...,  0.0006, -0.0510, -0.0329],\n",
      "          [ 0.0063, -0.0338, -0.0256,  ...,  0.1228,  0.0446, -0.1597],\n",
      "          [-0.1704, -0.0163, -0.0229,  ..., -0.0405,  0.1255, -0.1081],\n",
      "          ...,\n",
      "          [ 0.0795,  0.0973,  0.0170,  ..., -0.1347, -0.0950,  0.0665],\n",
      "          [ 0.0089, -0.0434, -0.0647,  ...,  0.0977, -0.0121, -0.0250],\n",
      "          [ 0.0122, -0.0447, -0.0624,  ...,  0.0915, -0.0122, -0.0200]],\n",
      "\n",
      "         ...,\n",
      "\n",
      "         [[ 0.0125,  0.0521, -0.0141,  ..., -0.0082, -0.0532,  0.0110],\n",
      "          [ 0.1208,  0.2360,  0.0400,  ...,  0.0614,  0.0358,  0.1615],\n",
      "          [-0.0016,  0.2972, -0.0699,  ...,  0.0372, -0.0261,  0.1557],\n",
      "          ...,\n",
      "          [ 0.0120,  0.1189,  0.0775,  ...,  0.0309,  0.0056,  0.2714],\n",
      "          [-0.1100,  0.0480, -0.1575,  ...,  0.0440,  0.1710,  0.1989],\n",
      "          [-0.1064,  0.0484, -0.1551,  ...,  0.0360,  0.1786,  0.1847]],\n",
      "\n",
      "         [[ 0.0767, -0.0281, -0.0373,  ...,  0.0597,  0.0056,  0.0194],\n",
      "          [-0.1312, -0.1211, -0.0687,  ..., -0.0231, -0.0554, -0.1223],\n",
      "          [-0.0159,  0.0387,  0.0381,  ..., -0.1234, -0.1196,  0.0569],\n",
      "          ...,\n",
      "          [ 0.2568,  0.0863, -0.1377,  ...,  0.0323, -0.0592,  0.0511],\n",
      "          [ 0.0028,  0.0160,  0.0069,  ...,  0.1131,  0.0828, -0.0165],\n",
      "          [-0.0302, -0.0649,  0.0096,  ...,  0.1313,  0.0878,  0.0023]],\n",
      "\n",
      "         [[ 0.0079, -0.0687, -0.0328,  ..., -0.0134, -0.0382,  0.0846],\n",
      "          [ 0.1036,  0.1375, -0.0079,  ..., -0.1141, -0.0193,  0.3069],\n",
      "          [ 0.0423, -0.0091, -0.0587,  ..., -0.0141,  0.1175,  0.2022],\n",
      "          ...,\n",
      "          [ 0.0662, -0.0887, -0.0707,  ..., -0.0033,  0.0524, -0.0730],\n",
      "          [-0.0515,  0.0497,  0.0821,  ..., -0.0043, -0.0113, -0.0916],\n",
      "          [-0.0438,  0.0289,  0.0667,  ..., -0.0528, -0.0561,  0.0168]]]],\n",
      "       device='cuda:0'))\n"
     ]
    }
   ],
   "source": [
    "print(a)"
   ]
  },
  {
   "cell_type": "code",
   "execution_count": null,
   "metadata": {},
   "outputs": [],
   "source": []
  }
 ],
 "metadata": {
  "kernelspec": {
   "display_name": "vllm",
   "language": "python",
   "name": "python3"
  },
  "language_info": {
   "codemirror_mode": {
    "name": "ipython",
    "version": 3
   },
   "file_extension": ".py",
   "mimetype": "text/x-python",
   "name": "python",
   "nbconvert_exporter": "python",
   "pygments_lexer": "ipython3",
   "version": "3.10.14"
  }
 },
 "nbformat": 4,
 "nbformat_minor": 2
}
